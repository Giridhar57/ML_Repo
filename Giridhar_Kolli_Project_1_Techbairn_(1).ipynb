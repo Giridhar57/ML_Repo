{
  "nbformat": 4,
  "nbformat_minor": 0,
  "metadata": {
    "colab": {
      "name": "Giridhar Kolli - Project_1_Techbairn (1).ipynb",
      "provenance": [],
      "collapsed_sections": [],
      "include_colab_link": true
    },
    "kernelspec": {
      "display_name": "Python 3",
      "language": "python",
      "name": "python3"
    },
    "language_info": {
      "codemirror_mode": {
        "name": "ipython",
        "version": 3
      },
      "file_extension": ".py",
      "mimetype": "text/x-python",
      "name": "python",
      "nbconvert_exporter": "python",
      "pygments_lexer": "ipython3",
      "version": "3.8.5"
    }
  },
  "cells": [
    {
      "cell_type": "markdown",
      "metadata": {
        "id": "view-in-github",
        "colab_type": "text"
      },
      "source": [
        "<a href=\"https://colab.research.google.com/github/Giridhar57/ML_Repo/blob/main/Giridhar_Kolli_Project_1_Techbairn_(1).ipynb\" target=\"_parent\"><img src=\"https://colab.research.google.com/assets/colab-badge.svg\" alt=\"Open In Colab\"/></a>"
      ]
    },
    {
      "cell_type": "markdown",
      "metadata": {
        "id": "4CZOQDaIlPk9"
      },
      "source": [
        "The Assignment 1 is primarily focused on the Linear Regression algorithm. Before starting, make sure that the *slr02.xls* file and this notebook is in the same folder, if you are using Jupyter labs.\n",
        "\n",
        "You have five tasks below. Each of them are graded separately. Complete the functions and produce predictions. "
      ]
    },
    {
      "cell_type": "code",
      "metadata": {
        "id": "IYJuldgVghgE"
      },
      "source": [
        "# Imports\n",
        "import numpy as np\n",
        "import pandas as pd\n",
        "import matplotlib.pyplot as plt"
      ],
      "execution_count": null,
      "outputs": []
    },
    {
      "cell_type": "code",
      "metadata": {
        "id": "1xUUjjS2gsCs",
        "outputId": "944dfb1a-f7b5-4fad-dbdb-6a22f6b2adeb"
      },
      "source": [
        "# loading data\n",
        "# You can use your own data if you want, but it should have only one input and one output feature.\n",
        "data = pd.read_excel('https://college.cengage.com/mathematics/brase/understandable_statistics/7e/students/datasets/slr/excel/slr02.xls')"
      ],
      "execution_count": null,
      "outputs": [
        {
          "output_type": "stream",
          "text": [
            "*** No CODEPAGE record, no encoding_override: will use 'ascii'\n"
          ],
          "name": "stdout"
        }
      ]
    },
    {
      "cell_type": "code",
      "metadata": {
        "id": "1J4p_sMRhAeD",
        "outputId": "b2b0a44f-9021-421d-9717-63553f61a01b"
      },
      "source": [
        "# Run this cell as an example\n",
        "# visualise the imported data\n",
        "## write code here\n",
        "\n",
        "data\n",
        "\n",
        "## end"
      ],
      "execution_count": null,
      "outputs": [
        {
          "output_type": "execute_result",
          "data": {
            "text/html": [
              "<div>\n",
              "<style scoped>\n",
              "    .dataframe tbody tr th:only-of-type {\n",
              "        vertical-align: middle;\n",
              "    }\n",
              "\n",
              "    .dataframe tbody tr th {\n",
              "        vertical-align: top;\n",
              "    }\n",
              "\n",
              "    .dataframe thead th {\n",
              "        text-align: right;\n",
              "    }\n",
              "</style>\n",
              "<table border=\"1\" class=\"dataframe\">\n",
              "  <thead>\n",
              "    <tr style=\"text-align: right;\">\n",
              "      <th></th>\n",
              "      <th>X</th>\n",
              "      <th>Y</th>\n",
              "    </tr>\n",
              "  </thead>\n",
              "  <tbody>\n",
              "    <tr>\n",
              "      <th>0</th>\n",
              "      <td>20.000000</td>\n",
              "      <td>88.599998</td>\n",
              "    </tr>\n",
              "    <tr>\n",
              "      <th>1</th>\n",
              "      <td>16.000000</td>\n",
              "      <td>71.599998</td>\n",
              "    </tr>\n",
              "    <tr>\n",
              "      <th>2</th>\n",
              "      <td>19.799999</td>\n",
              "      <td>93.300003</td>\n",
              "    </tr>\n",
              "    <tr>\n",
              "      <th>3</th>\n",
              "      <td>18.400000</td>\n",
              "      <td>84.300003</td>\n",
              "    </tr>\n",
              "    <tr>\n",
              "      <th>4</th>\n",
              "      <td>17.100000</td>\n",
              "      <td>80.599998</td>\n",
              "    </tr>\n",
              "    <tr>\n",
              "      <th>5</th>\n",
              "      <td>15.500000</td>\n",
              "      <td>75.199997</td>\n",
              "    </tr>\n",
              "    <tr>\n",
              "      <th>6</th>\n",
              "      <td>14.700000</td>\n",
              "      <td>69.699997</td>\n",
              "    </tr>\n",
              "    <tr>\n",
              "      <th>7</th>\n",
              "      <td>17.100000</td>\n",
              "      <td>82.000000</td>\n",
              "    </tr>\n",
              "    <tr>\n",
              "      <th>8</th>\n",
              "      <td>15.400000</td>\n",
              "      <td>69.400002</td>\n",
              "    </tr>\n",
              "    <tr>\n",
              "      <th>9</th>\n",
              "      <td>16.200001</td>\n",
              "      <td>83.300003</td>\n",
              "    </tr>\n",
              "    <tr>\n",
              "      <th>10</th>\n",
              "      <td>15.000000</td>\n",
              "      <td>79.599998</td>\n",
              "    </tr>\n",
              "    <tr>\n",
              "      <th>11</th>\n",
              "      <td>17.200001</td>\n",
              "      <td>82.599998</td>\n",
              "    </tr>\n",
              "    <tr>\n",
              "      <th>12</th>\n",
              "      <td>16.000000</td>\n",
              "      <td>80.599998</td>\n",
              "    </tr>\n",
              "    <tr>\n",
              "      <th>13</th>\n",
              "      <td>17.000000</td>\n",
              "      <td>83.500000</td>\n",
              "    </tr>\n",
              "    <tr>\n",
              "      <th>14</th>\n",
              "      <td>14.400000</td>\n",
              "      <td>76.300003</td>\n",
              "    </tr>\n",
              "  </tbody>\n",
              "</table>\n",
              "</div>"
            ],
            "text/plain": [
              "            X          Y\n",
              "0   20.000000  88.599998\n",
              "1   16.000000  71.599998\n",
              "2   19.799999  93.300003\n",
              "3   18.400000  84.300003\n",
              "4   17.100000  80.599998\n",
              "5   15.500000  75.199997\n",
              "6   14.700000  69.699997\n",
              "7   17.100000  82.000000\n",
              "8   15.400000  69.400002\n",
              "9   16.200001  83.300003\n",
              "10  15.000000  79.599998\n",
              "11  17.200001  82.599998\n",
              "12  16.000000  80.599998\n",
              "13  17.000000  83.500000\n",
              "14  14.400000  76.300003"
            ]
          },
          "metadata": {
            "tags": []
          },
          "execution_count": 33
        }
      ]
    },
    {
      "cell_type": "markdown",
      "metadata": {
        "id": "vo7eA4VOirpE"
      },
      "source": [
        "### Task 1: Check the type of data\n",
        "\n",
        "Expected output:\n",
        "\n",
        "*pandas.core.frame.DataFrame*"
      ]
    },
    {
      "cell_type": "code",
      "metadata": {
        "id": "WsRx8qqMhBYk",
        "outputId": "6abf72d4-9b0a-46c9-d968-d45cefd530a7"
      },
      "source": [
        "# Task : Check the type of data\n",
        "## write code here\n",
        "type(data)\n",
        "## end"
      ],
      "execution_count": null,
      "outputs": [
        {
          "output_type": "execute_result",
          "data": {
            "text/plain": [
              "pandas.core.frame.DataFrame"
            ]
          },
          "metadata": {
            "tags": []
          },
          "execution_count": 34
        }
      ]
    },
    {
      "cell_type": "code",
      "metadata": {
        "id": "xSAS0QsyhwdC"
      },
      "source": [
        "# We cast numpy array for calulations\n",
        "X = np.array(data.X)\n",
        "y = np.array(data.Y)"
      ],
      "execution_count": null,
      "outputs": []
    },
    {
      "cell_type": "code",
      "metadata": {
        "id": "eky-8GhMh09e",
        "outputId": "178dd5f7-688a-4f06-fa40-95c4d0974a49"
      },
      "source": [
        "# visualise casted data\n",
        "X,y"
      ],
      "execution_count": null,
      "outputs": [
        {
          "output_type": "execute_result",
          "data": {
            "text/plain": [
              "(array([20.        , 16.        , 19.79999924, 18.39999962, 17.10000038,\n",
              "        15.5       , 14.69999981, 17.10000038, 15.39999962, 16.20000076,\n",
              "        15.        , 17.20000076, 16.        , 17.        , 14.39999962]),\n",
              " array([88.59999847, 71.59999847, 93.30000305, 84.30000305, 80.59999847,\n",
              "        75.19999695, 69.69999695, 82.        , 69.40000153, 83.30000305,\n",
              "        79.59999847, 82.59999847, 80.59999847, 83.5       , 76.30000305]))"
            ]
          },
          "metadata": {
            "tags": []
          },
          "execution_count": 36
        }
      ]
    },
    {
      "cell_type": "code",
      "metadata": {
        "id": "XDBJLsJYoe5O",
        "outputId": "a71dcae1-7382-4a8d-9386-ef05490b6615"
      },
      "source": [
        "type(X)"
      ],
      "execution_count": null,
      "outputs": [
        {
          "output_type": "execute_result",
          "data": {
            "text/plain": [
              "numpy.ndarray"
            ]
          },
          "metadata": {
            "tags": []
          },
          "execution_count": 37
        }
      ]
    },
    {
      "cell_type": "markdown",
      "metadata": {
        "id": "mSlm_g7TjX-J"
      },
      "source": [
        "### Task 2: Define plot points function"
      ]
    },
    {
      "cell_type": "code",
      "metadata": {
        "id": "CDxWI5gXh47_"
      },
      "source": [
        "def plot_points(X, y, xlabel, ylabel):\n",
        "    plt.scatter(X,y,color='red')\n",
        "    plt.xlabel(xlabel)\n",
        "    plt.ylabel(ylabel)\n",
        "    # TODO: Code for scatter plotting X and y and label the axes."
      ],
      "execution_count": null,
      "outputs": []
    },
    {
      "cell_type": "code",
      "metadata": {
        "id": "zYUgbIIWh8eR",
        "outputId": "c209c957-2567-4cbd-b874-b9d902a4296f"
      },
      "source": [
        "# plot data points\n",
        "plot_points(X, y, \"chirps/sec for the striped ground cricket\", \"temperature in degrees Fahrenheit\")"
      ],
      "execution_count": null,
      "outputs": [
        {
          "output_type": "display_data",
          "data": {
            "image/png": "[encoded data removed]",
            "text/plain": [
              "<Figure size 432x288 with 1 Axes>"
            ]
          },
          "metadata": {
            "tags": [],
            "needs_background": "light"
          }
        }
      ]
    },
    {
      "cell_type": "markdown",
      "metadata": {
        "id": "Tteu6l6Hoe5Q"
      },
      "source": [
        "### Task 3: Define Hypothesis"
      ]
    },
    {
      "cell_type": "code",
      "metadata": {
        "id": "r0JI2Es0h_2U"
      },
      "source": [
        "# initialised theta\n",
        "np.random.seed(2)\n",
        "theta=np.random.rand(2,1)\n",
        "# hypothesis of model\n",
        "def hypothesis(X, theta):\n",
        "    return theta[0]+theta[1]*X\n",
        "    \"\"\"Predicts output feature given input feature and theta\"\"\""
      ],
      "execution_count": null,
      "outputs": []
    },
    {
      "cell_type": "code",
      "metadata": {
        "id": "S6sKAC25iC05"
      },
      "source": [
        "# plots line of regression\n",
        "def draw_line(theta):\n",
        "    \"\"\"Plot a line from slope and intercept\"\"\"\n",
        "    axes = plt.gca()\n",
        "    x_vals =np.array(axes.get_xlim())\n",
        "    y_vals = hypothesis(x_vals, theta)\n",
        "    plt.plot(x_vals, y_vals, '--')"
      ],
      "execution_count": null,
      "outputs": []
    },
    {
      "cell_type": "code",
      "metadata": {
        "id": "VkBotpF_iGNi"
      },
      "source": [
        "# plots points and lines\n",
        "def draw_points_and_lines(X, y, xlabel, ylabel, theta):\n",
        "    \"\"\"Draw lines and points\"\"\"\n",
        "    plot_points(X, y, xlabel, ylabel)\n",
        "    draw_line(theta)"
      ],
      "execution_count": null,
      "outputs": []
    },
    {
      "cell_type": "code",
      "metadata": {
        "id": "W-RGge3diI0Y",
        "outputId": "6c6cef78-c3b6-49bc-dc65-94eae75e08ad"
      },
      "source": [
        "# draw line of regression without traing model\n",
        "draw_points_and_lines(X, y, \"chirps/sec for the striped ground cricket\", \"temperature in degrees Fahrenheit\", theta)"
      ],
      "execution_count": null,
      "outputs": [
        {
          "output_type": "display_data",
          "data": {
            "image/png": "[encoded data removed]",
            "text/plain": [
              "<Figure size 432x288 with 1 Axes>"
            ]
          },
          "metadata": {
            "tags": [],
            "needs_background": "light"
          }
        }
      ]
    },
    {
      "cell_type": "markdown",
      "metadata": {
        "id": "7hNS24hijzrK"
      },
      "source": [
        "### Task 4: Define the return statement of cost function"
      ]
    },
    {
      "cell_type": "code",
      "metadata": {
        "id": "ByRaK85-iLkp"
      },
      "source": [
        "# cost function\n",
        "m = len(X)\n",
        "def cost(X, y, theta):\n",
        "    m=X.size\n",
        "    cost=0\n",
        "    y_pred=X*theta[1]+theta[0]\n",
        "    cost=(1/(2*m))*(y_pred-y)**2\n",
        "    return cost\n",
        "    # TODO: Cost function with Mean Squared Error"
      ],
      "execution_count": null,
      "outputs": []
    },
    {
      "cell_type": "code",
      "metadata": {
        "id": "0l5TzIv2iObn",
        "outputId": "f2454e36-0d79-40ff-943b-49644251daea"
      },
      "source": [
        "# initial cost without training model\n",
        "cost(X, y, theta)"
      ],
      "execution_count": null,
      "outputs": [
        {
          "output_type": "execute_result",
          "data": {
            "text/plain": [
              "array([256.0576659 , 166.84823389, 284.28820079, 231.7795338 ,\n",
              "       211.84614757, 184.32428922, 158.16173483, 219.35208458,\n",
              "       156.70413124, 226.56712197, 206.85059899, 222.59477835,\n",
              "       211.9977442 , 227.55343179, 189.96137735])"
            ]
          },
          "metadata": {
            "tags": []
          },
          "execution_count": 45
        }
      ]
    },
    {
      "cell_type": "markdown",
      "metadata": {
        "id": "e3camAWMkXG9"
      },
      "source": [
        "### Task 5: Define the gradient descent function"
      ]
    },
    {
      "cell_type": "code",
      "metadata": {
        "id": "8bPcP_GRiSJm"
      },
      "source": [
        "# minimize cost\n",
        "def gradient_descent(X, y, theta, alpha, steps):\n",
        "    n=float(len(X))\n",
        "    for i in range(steps):\n",
        "        y_pred=X*theta[1]+theta[0]\n",
        "        theta0=-(2/n)*sum(y-y_pred)\n",
        "        theta1=-(2/n)*sum(X*(y-y_pred))\n",
        "        theta[0]=theta[0]-(alpha*theta0)\n",
        "        theta[1]=theta[1]-(alpha*theta1)\n",
        "    return theta\n",
        "    # TODO: Code for Gradient Descent"
      ],
      "execution_count": null,
      "outputs": []
    },
    {
      "cell_type": "code",
      "metadata": {
        "id": "yUZSyU4KiR85",
        "outputId": "f25f1fbf-57e5-4388-ce2f-6aaa8d5937f1"
      },
      "source": [
        "# train model of 100 iterations\n",
        "theta=gradient_descent(X, y, theta, alpha=0.0001, steps=100000)\n",
        "theta"
      ],
      "execution_count": null,
      "outputs": [
        {
          "output_type": "execute_result",
          "data": {
            "text/plain": [
              "array([[5.00813414],\n",
              "       [4.49383217]])"
            ]
          },
          "metadata": {
            "tags": []
          },
          "execution_count": 47
        }
      ]
    },
    {
      "cell_type": "code",
      "metadata": {
        "id": "NYpz8ytticed",
        "outputId": "3d720c47-f1c4-4864-8e5c-9339f73da15f"
      },
      "source": [
        "# cost after traing model\n",
        "cost(X, y, theta)"
      ],
      "execution_count": null,
      "outputs": [
        {
          "output_type": "execute_result",
          "data": {
            "text/plain": [
              "array([1.31661491e+00, 9.39675435e-01, 1.56867435e-02, 3.84119644e-01,\n",
              "       5.23058575e-02, 9.62892597e-03, 6.23324004e-02, 7.23577760e-04,\n",
              "       7.72212572e-01, 1.00532319e+00, 1.72051140e+00, 2.95909303e-03,\n",
              "       4.54005223e-01, 1.46541020e-01, 1.44351489e+00])"
            ]
          },
          "metadata": {
            "tags": []
          },
          "execution_count": 48
        }
      ]
    },
    {
      "cell_type": "code",
      "metadata": {
        "id": "0_TYUkteicWa",
        "outputId": "936fb040-aca9-4e22-f359-393b13124b68"
      },
      "source": [
        "# value of theta after training \n",
        "type(theta)"
      ],
      "execution_count": null,
      "outputs": [
        {
          "output_type": "execute_result",
          "data": {
            "text/plain": [
              "numpy.ndarray"
            ]
          },
          "metadata": {
            "tags": []
          },
          "execution_count": 49
        }
      ]
    },
    {
      "cell_type": "code",
      "metadata": {
        "id": "cBsikXFEicOl",
        "outputId": "4da7adbb-c7f4-48f6-e89a-f2469f77529e"
      },
      "source": [
        "# regression line after traing model\n",
        "draw_points_and_lines(X, y, \"chirps/sec for the striped ground cricket\", \"temperature in degrees Fahrenheit\", theta)"
      ],
      "execution_count": null,
      "outputs": [
        {
          "output_type": "display_data",
          "data": {
            "image/png": "[encoded data removed]",
            "text/plain": [
              "<Figure size 432x288 with 1 Axes>"
            ]
          },
          "metadata": {
            "tags": [],
            "needs_background": "light"
          }
        }
      ]
    },
    {
      "cell_type": "code",
      "metadata": {
        "id": "oPoVT0_Yoe5U",
        "outputId": "7016dcf2-f8f4-44cd-fa94-5674cfd07ac9"
      },
      "source": [
        "#To find the R^2 value\n",
        "\n",
        "mean_x=np.mean(X)\n",
        "mean_y=np.mean(y)\n",
        "ss_t=0\n",
        "ss_r=0\n",
        "m=float(theta[1])\n",
        "c=float(theta[0])\n",
        "for i in range(len(X)):\n",
        "    y_pred=m*X[i]+c\n",
        "    ss_t+=(y[i]-mean_y)**2\n",
        "    ss_r+=(y[i]-y_pred)**2\n",
        "r2=1-(ss_r/ss_t)\n",
        "print(\"R^2=\",r2)"
      ],
      "execution_count": null,
      "outputs": [
        {
          "output_type": "stream",
          "text": [
            "R^2= 0.6034132922769024\n"
          ],
          "name": "stdout"
        }
      ]
    },
    {
      "cell_type": "markdown",
      "metadata": {
        "id": "OkIM32valA3y"
      },
      "source": [
        "### Task 6: predict by using hypothesis function"
      ]
    },
    {
      "cell_type": "code",
      "metadata": {
        "id": "ThQ6RpUhijcx",
        "outputId": "5eb10da1-3321-439a-f04e-b536d91456ba"
      },
      "source": [
        "# Predict\n",
        "# TODO: Prediction using trained model\n",
        "print(\"When chirps/sec is 16.0, the temperature is \",float(theta[0]+theta[1]*16.0))"
      ],
      "execution_count": null,
      "outputs": [
        {
          "output_type": "stream",
          "text": [
            "When chirps/sec is 16.0, the temperature is  76.90944882207225\n"
          ],
          "name": "stdout"
        }
      ]
    },
    {
      "cell_type": "code",
      "metadata": {
        "id": "rOwT7isioe5X",
        "outputId": "98d10edc-1372-4ca0-d33a-5ca85c0d3db7"
      },
      "source": [
        "print(\"When chirps/sec is 19.8, the temperature is \",float(theta[0]+theta[1]*19.8))"
      ],
      "execution_count": null,
      "outputs": [
        {
          "output_type": "stream",
          "text": [
            "When chirps/sec is 19.8, the temperature is  93.98601105975237\n"
          ],
          "name": "stdout"
        }
      ]
    },
    {
      "cell_type": "code",
      "metadata": {
        "id": "KYmF5GTGoe5X"
      },
      "source": [
        ""
      ],
      "execution_count": null,
      "outputs": []
    }
  ]
}